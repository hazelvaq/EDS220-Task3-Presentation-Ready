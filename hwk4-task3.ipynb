{
 "cells": [
  {
   "cell_type": "markdown",
   "id": "90bd9087-678e-4e19-b70d-d0a25e01463e",
   "metadata": {},
   "source": [
    "## Homework 4- Task 3: Air Quality Index Data + False Color Image\n",
    "Author: Hazel Vaquero\n",
    "\n",
    "Repository link: https://github.com/hazelvaq/eds220-mpc.git "
   ]
  },
  {
   "cell_type": "markdown",
   "id": "90ef31c7-2f44-4c4a-abc3-949a2d5939d0",
   "metadata": {},
   "source": [
    "## About\n",
    "In this notebook we create a time series showing Averaged Air Quaility Index(AQI) for Santa Barbara in 2017 to observe the affects of the Thomas Fire. As well as creating a raster map of Santa Barbara fire scar from the Thomas Fire.\n",
    "\n",
    "#### Highlights\n",
    "- Fetch vector data from online repository\n",
    "- Data wrangling with `pandas`\n",
    "- Time series analysis with `matplotlib`\n",
    "- Raster wrangling with `rioxarray`\n",
    "\n",
    "### About the Datasets\n",
    "In this notebook we use 3 different data sets.\n",
    "\n",
    "#### AQI Time series Data\n",
    "**1) [EPA's Air Quality Data Collected at Outdoor Monitor Stations](https://www.epa.gov/outdoor-air-quality-data)**\n",
    "\n",
    "The first dataset contains information on daily AQI readings across the United States. AQI readings are an indicator that allow the public to understand how polluted their air is. AQI is divided into 6 categories: \n",
    " - Good \n",
    " - Moderate \n",
    " - Unhealthy for Sensetive Groups\n",
    " - Unhealthy \n",
    " - Very Unhealthy\n",
    " - Hazardous\n",
    "\n",
    "Higher levels in AQI translate to more pollution present in the atmosphere. \n",
    "\n",
    "This dataset has been download from the [EPA's Air Quality System (AQS)](https://aqs.epa.gov/aqsweb/airdata/download_files.html#AQI) as a datset. We are interested in 2017 and 2018 Daily AQI by county data. It has 10 columns recording information about the state name, date recorded, AQI, AQI category, and county name. For this analysis we will use the following columns:\n",
    "- **County name**: County where AQI levels were measured\n",
    "- **AQI**: air quality measure reported (based on PM2.5 present in the atmosphere)\n",
    "\n",
    "Additional information and metadata for this datset is available in the [Airdata Download Files Documentation](https://aqs.epa.gov/aqsweb/airdata/FileFormats.html)\n",
    "\n",
    "#### Thomas Fire Scar Data\n",
    "**2) [California Fire Perimeter](https://gis.data.ca.gov/datasets/CALFIRE-Forestry::california-fire-perimeters-all-1/about)**\n",
    "\n",
    "This is a shapefile of California wildfires from 1878 to 2022. The data is updated annually in the spring with the fire perimeters from the previous fire season. As noted by The State of California and the Department of Forestry and Fire Protection this data provides a spatial distribution of the past large fires in California. But, this data is in no way a complete potral of the past fires. There are historical data missing,  \n",
    "\n"
   ]
  },
  {
   "cell_type": "markdown",
   "id": "96be7f93-24ad-454f-a117-b458399ac3ce",
   "metadata": {},
   "source": [
    "### Analysis\n",
    "\n",
    "The necessary libraries for this task are the following"
   ]
  },
  {
   "cell_type": "code",
   "execution_count": 2,
   "id": "7dd8723e-b54e-4004-882d-173a2d3f5e93",
   "metadata": {
    "tags": []
   },
   "outputs": [],
   "source": [
    "# read in pandas\n",
    "import pandas as pd\n",
    "# import matplotlib for colors\n",
    "import matplotlib.pyplot as plt "
   ]
  },
  {
   "cell_type": "markdown",
   "id": "d597673a-7dd5-4eac-b9ef-17efd04e19eb",
   "metadata": {},
   "source": [
    "We are interested in `daily_aqi_by_county_2017.zip` and `daily_aqi_by_county_2018.zip`. Using the url above we import our data."
   ]
  },
  {
   "cell_type": "code",
   "execution_count": 12,
   "id": "715e4723-8cf7-4329-a8ff-670d629dee8c",
   "metadata": {
    "tags": []
   },
   "outputs": [
    {
     "data": {
      "text/html": [
       "<div>\n",
       "<style scoped>\n",
       "    .dataframe tbody tr th:only-of-type {\n",
       "        vertical-align: middle;\n",
       "    }\n",
       "\n",
       "    .dataframe tbody tr th {\n",
       "        vertical-align: top;\n",
       "    }\n",
       "\n",
       "    .dataframe thead th {\n",
       "        text-align: right;\n",
       "    }\n",
       "</style>\n",
       "<table border=\"1\" class=\"dataframe\">\n",
       "  <thead>\n",
       "    <tr style=\"text-align: right;\">\n",
       "      <th></th>\n",
       "      <th>State Name</th>\n",
       "      <th>county Name</th>\n",
       "      <th>State Code</th>\n",
       "      <th>County Code</th>\n",
       "      <th>Date</th>\n",
       "      <th>AQI</th>\n",
       "      <th>Category</th>\n",
       "      <th>Defining Parameter</th>\n",
       "      <th>Defining Site</th>\n",
       "      <th>Number of Sites Reporting</th>\n",
       "    </tr>\n",
       "  </thead>\n",
       "  <tbody>\n",
       "    <tr>\n",
       "      <th>0</th>\n",
       "      <td>Alabama</td>\n",
       "      <td>Baldwin</td>\n",
       "      <td>1</td>\n",
       "      <td>3</td>\n",
       "      <td>2017-01-01</td>\n",
       "      <td>21</td>\n",
       "      <td>Good</td>\n",
       "      <td>PM2.5</td>\n",
       "      <td>01-003-0010</td>\n",
       "      <td>1</td>\n",
       "    </tr>\n",
       "    <tr>\n",
       "      <th>1</th>\n",
       "      <td>Alabama</td>\n",
       "      <td>Baldwin</td>\n",
       "      <td>1</td>\n",
       "      <td>3</td>\n",
       "      <td>2017-01-04</td>\n",
       "      <td>22</td>\n",
       "      <td>Good</td>\n",
       "      <td>PM2.5</td>\n",
       "      <td>01-003-0010</td>\n",
       "      <td>1</td>\n",
       "    </tr>\n",
       "    <tr>\n",
       "      <th>2</th>\n",
       "      <td>Alabama</td>\n",
       "      <td>Baldwin</td>\n",
       "      <td>1</td>\n",
       "      <td>3</td>\n",
       "      <td>2017-01-10</td>\n",
       "      <td>19</td>\n",
       "      <td>Good</td>\n",
       "      <td>PM2.5</td>\n",
       "      <td>01-003-0010</td>\n",
       "      <td>1</td>\n",
       "    </tr>\n",
       "    <tr>\n",
       "      <th>3</th>\n",
       "      <td>Alabama</td>\n",
       "      <td>Baldwin</td>\n",
       "      <td>1</td>\n",
       "      <td>3</td>\n",
       "      <td>2017-01-13</td>\n",
       "      <td>30</td>\n",
       "      <td>Good</td>\n",
       "      <td>PM2.5</td>\n",
       "      <td>01-003-0010</td>\n",
       "      <td>1</td>\n",
       "    </tr>\n",
       "    <tr>\n",
       "      <th>4</th>\n",
       "      <td>Alabama</td>\n",
       "      <td>Baldwin</td>\n",
       "      <td>1</td>\n",
       "      <td>3</td>\n",
       "      <td>2017-01-16</td>\n",
       "      <td>16</td>\n",
       "      <td>Good</td>\n",
       "      <td>PM2.5</td>\n",
       "      <td>01-003-0010</td>\n",
       "      <td>1</td>\n",
       "    </tr>\n",
       "    <tr>\n",
       "      <th>...</th>\n",
       "      <td>...</td>\n",
       "      <td>...</td>\n",
       "      <td>...</td>\n",
       "      <td>...</td>\n",
       "      <td>...</td>\n",
       "      <td>...</td>\n",
       "      <td>...</td>\n",
       "      <td>...</td>\n",
       "      <td>...</td>\n",
       "      <td>...</td>\n",
       "    </tr>\n",
       "    <tr>\n",
       "      <th>326796</th>\n",
       "      <td>Wyoming</td>\n",
       "      <td>Weston</td>\n",
       "      <td>56</td>\n",
       "      <td>45</td>\n",
       "      <td>2017-12-27</td>\n",
       "      <td>39</td>\n",
       "      <td>Good</td>\n",
       "      <td>Ozone</td>\n",
       "      <td>56-045-0003</td>\n",
       "      <td>1</td>\n",
       "    </tr>\n",
       "    <tr>\n",
       "      <th>326797</th>\n",
       "      <td>Wyoming</td>\n",
       "      <td>Weston</td>\n",
       "      <td>56</td>\n",
       "      <td>45</td>\n",
       "      <td>2017-12-28</td>\n",
       "      <td>36</td>\n",
       "      <td>Good</td>\n",
       "      <td>Ozone</td>\n",
       "      <td>56-045-0003</td>\n",
       "      <td>1</td>\n",
       "    </tr>\n",
       "    <tr>\n",
       "      <th>326798</th>\n",
       "      <td>Wyoming</td>\n",
       "      <td>Weston</td>\n",
       "      <td>56</td>\n",
       "      <td>45</td>\n",
       "      <td>2017-12-29</td>\n",
       "      <td>31</td>\n",
       "      <td>Good</td>\n",
       "      <td>Ozone</td>\n",
       "      <td>56-045-0003</td>\n",
       "      <td>1</td>\n",
       "    </tr>\n",
       "    <tr>\n",
       "      <th>326799</th>\n",
       "      <td>Wyoming</td>\n",
       "      <td>Weston</td>\n",
       "      <td>56</td>\n",
       "      <td>45</td>\n",
       "      <td>2017-12-30</td>\n",
       "      <td>31</td>\n",
       "      <td>Good</td>\n",
       "      <td>Ozone</td>\n",
       "      <td>56-045-0003</td>\n",
       "      <td>1</td>\n",
       "    </tr>\n",
       "    <tr>\n",
       "      <th>326800</th>\n",
       "      <td>Wyoming</td>\n",
       "      <td>Weston</td>\n",
       "      <td>56</td>\n",
       "      <td>45</td>\n",
       "      <td>2017-12-31</td>\n",
       "      <td>26</td>\n",
       "      <td>Good</td>\n",
       "      <td>Ozone</td>\n",
       "      <td>56-045-0003</td>\n",
       "      <td>1</td>\n",
       "    </tr>\n",
       "  </tbody>\n",
       "</table>\n",
       "<p>326801 rows × 10 columns</p>\n",
       "</div>"
      ],
      "text/plain": [
       "       State Name county Name  State Code  County Code        Date  AQI  \\\n",
       "0         Alabama     Baldwin           1            3  2017-01-01   21   \n",
       "1         Alabama     Baldwin           1            3  2017-01-04   22   \n",
       "2         Alabama     Baldwin           1            3  2017-01-10   19   \n",
       "3         Alabama     Baldwin           1            3  2017-01-13   30   \n",
       "4         Alabama     Baldwin           1            3  2017-01-16   16   \n",
       "...           ...         ...         ...          ...         ...  ...   \n",
       "326796    Wyoming      Weston          56           45  2017-12-27   39   \n",
       "326797    Wyoming      Weston          56           45  2017-12-28   36   \n",
       "326798    Wyoming      Weston          56           45  2017-12-29   31   \n",
       "326799    Wyoming      Weston          56           45  2017-12-30   31   \n",
       "326800    Wyoming      Weston          56           45  2017-12-31   26   \n",
       "\n",
       "       Category Defining Parameter Defining Site  Number of Sites Reporting  \n",
       "0          Good              PM2.5   01-003-0010                          1  \n",
       "1          Good              PM2.5   01-003-0010                          1  \n",
       "2          Good              PM2.5   01-003-0010                          1  \n",
       "3          Good              PM2.5   01-003-0010                          1  \n",
       "4          Good              PM2.5   01-003-0010                          1  \n",
       "...         ...                ...           ...                        ...  \n",
       "326796     Good              Ozone   56-045-0003                          1  \n",
       "326797     Good              Ozone   56-045-0003                          1  \n",
       "326798     Good              Ozone   56-045-0003                          1  \n",
       "326799     Good              Ozone   56-045-0003                          1  \n",
       "326800     Good              Ozone   56-045-0003                          1  \n",
       "\n",
       "[326801 rows x 10 columns]"
      ]
     },
     "execution_count": 12,
     "metadata": {},
     "output_type": "execute_result"
    }
   ],
   "source": [
    "# read in 2017 Daily AQI by County data\n",
    "aqi_17 = pd.read_csv(\"https://aqs.epa.gov/aqsweb/airdata/daily_aqi_by_county_2017.zip\")\n",
    "\n",
    "# read in 2018 Daily AQI by County data\n",
    "aqi_18 = pd.read_csv(\"https://aqs.epa.gov/aqsweb/airdata/daily_aqi_by_county_2018.zip\")\n",
    "\n",
    "aqi_17"
   ]
  },
  {
   "cell_type": "markdown",
   "id": "e29f4521-ee04-4dc5-bc17-dd24dab3be9c",
   "metadata": {},
   "source": [
    "We have two seperate dataframes, we should combine them for our analysis"
   ]
  },
  {
   "cell_type": "code",
   "execution_count": 3,
   "id": "c384223d-1b2c-447e-ab0d-20b36bf46a4b",
   "metadata": {
    "tags": []
   },
   "outputs": [],
   "source": [
    "# \"Glue\" aqi_17 and aqi_18\n",
    "aqi = pd.concat([aqi_17,aqi_18])"
   ]
  },
  {
   "cell_type": "markdown",
   "id": "c2393a84-c9e2-47a9-9b7e-786a1081f08c",
   "metadata": {},
   "source": [
    "Let us view our newly combined dataframe!"
   ]
  },
  {
   "cell_type": "code",
   "execution_count": 4,
   "id": "55f9d355-6ae8-49ce-b798-938cfdd6f0fd",
   "metadata": {
    "tags": []
   },
   "outputs": [
    {
     "data": {
      "text/html": [
       "<div>\n",
       "<style scoped>\n",
       "    .dataframe tbody tr th:only-of-type {\n",
       "        vertical-align: middle;\n",
       "    }\n",
       "\n",
       "    .dataframe tbody tr th {\n",
       "        vertical-align: top;\n",
       "    }\n",
       "\n",
       "    .dataframe thead th {\n",
       "        text-align: right;\n",
       "    }\n",
       "</style>\n",
       "<table border=\"1\" class=\"dataframe\">\n",
       "  <thead>\n",
       "    <tr style=\"text-align: right;\">\n",
       "      <th></th>\n",
       "      <th>State Name</th>\n",
       "      <th>county Name</th>\n",
       "      <th>State Code</th>\n",
       "      <th>County Code</th>\n",
       "      <th>Date</th>\n",
       "      <th>AQI</th>\n",
       "      <th>Category</th>\n",
       "      <th>Defining Parameter</th>\n",
       "      <th>Defining Site</th>\n",
       "      <th>Number of Sites Reporting</th>\n",
       "    </tr>\n",
       "  </thead>\n",
       "  <tbody>\n",
       "    <tr>\n",
       "      <th>0</th>\n",
       "      <td>Alabama</td>\n",
       "      <td>Baldwin</td>\n",
       "      <td>1</td>\n",
       "      <td>3</td>\n",
       "      <td>2017-01-01</td>\n",
       "      <td>21</td>\n",
       "      <td>Good</td>\n",
       "      <td>PM2.5</td>\n",
       "      <td>01-003-0010</td>\n",
       "      <td>1</td>\n",
       "    </tr>\n",
       "    <tr>\n",
       "      <th>1</th>\n",
       "      <td>Alabama</td>\n",
       "      <td>Baldwin</td>\n",
       "      <td>1</td>\n",
       "      <td>3</td>\n",
       "      <td>2017-01-04</td>\n",
       "      <td>22</td>\n",
       "      <td>Good</td>\n",
       "      <td>PM2.5</td>\n",
       "      <td>01-003-0010</td>\n",
       "      <td>1</td>\n",
       "    </tr>\n",
       "    <tr>\n",
       "      <th>2</th>\n",
       "      <td>Alabama</td>\n",
       "      <td>Baldwin</td>\n",
       "      <td>1</td>\n",
       "      <td>3</td>\n",
       "      <td>2017-01-10</td>\n",
       "      <td>19</td>\n",
       "      <td>Good</td>\n",
       "      <td>PM2.5</td>\n",
       "      <td>01-003-0010</td>\n",
       "      <td>1</td>\n",
       "    </tr>\n",
       "  </tbody>\n",
       "</table>\n",
       "</div>"
      ],
      "text/plain": [
       "  State Name county Name  State Code  County Code        Date  AQI Category  \\\n",
       "0    Alabama     Baldwin           1            3  2017-01-01   21     Good   \n",
       "1    Alabama     Baldwin           1            3  2017-01-04   22     Good   \n",
       "2    Alabama     Baldwin           1            3  2017-01-10   19     Good   \n",
       "\n",
       "  Defining Parameter Defining Site  Number of Sites Reporting  \n",
       "0              PM2.5   01-003-0010                          1  \n",
       "1              PM2.5   01-003-0010                          1  \n",
       "2              PM2.5   01-003-0010                          1  "
      ]
     },
     "execution_count": 4,
     "metadata": {},
     "output_type": "execute_result"
    }
   ],
   "source": [
    "aqi.head(3)"
   ]
  },
  {
   "cell_type": "markdown",
   "id": "5812027b-5fae-460b-9ba8-9162cf011046",
   "metadata": {},
   "source": [
    "Some things to note:\n",
    "\n",
    "1. The column names start with an upper case\n",
    "2. There is a blank space in the column names\n",
    "\n",
    "Before we continue our analysis we should update the column names in a more programmer friendly manner. Update the column names to be lower case and replace the blank space with `_`\n"
   ]
  },
  {
   "cell_type": "code",
   "execution_count": 5,
   "id": "ed593f23-3663-46da-bc76-25dacb7abf32",
   "metadata": {
    "tags": []
   },
   "outputs": [
    {
     "data": {
      "text/html": [
       "<div>\n",
       "<style scoped>\n",
       "    .dataframe tbody tr th:only-of-type {\n",
       "        vertical-align: middle;\n",
       "    }\n",
       "\n",
       "    .dataframe tbody tr th {\n",
       "        vertical-align: top;\n",
       "    }\n",
       "\n",
       "    .dataframe thead th {\n",
       "        text-align: right;\n",
       "    }\n",
       "</style>\n",
       "<table border=\"1\" class=\"dataframe\">\n",
       "  <thead>\n",
       "    <tr style=\"text-align: right;\">\n",
       "      <th></th>\n",
       "      <th>state_name</th>\n",
       "      <th>county_name</th>\n",
       "      <th>state_code</th>\n",
       "      <th>county_code</th>\n",
       "      <th>date</th>\n",
       "      <th>aqi</th>\n",
       "      <th>category</th>\n",
       "      <th>defining_parameter</th>\n",
       "      <th>defining_site</th>\n",
       "      <th>number_of_sites_reporting</th>\n",
       "    </tr>\n",
       "  </thead>\n",
       "  <tbody>\n",
       "    <tr>\n",
       "      <th>0</th>\n",
       "      <td>Alabama</td>\n",
       "      <td>Baldwin</td>\n",
       "      <td>1</td>\n",
       "      <td>3</td>\n",
       "      <td>2017-01-01</td>\n",
       "      <td>21</td>\n",
       "      <td>Good</td>\n",
       "      <td>PM2.5</td>\n",
       "      <td>01-003-0010</td>\n",
       "      <td>1</td>\n",
       "    </tr>\n",
       "    <tr>\n",
       "      <th>1</th>\n",
       "      <td>Alabama</td>\n",
       "      <td>Baldwin</td>\n",
       "      <td>1</td>\n",
       "      <td>3</td>\n",
       "      <td>2017-01-04</td>\n",
       "      <td>22</td>\n",
       "      <td>Good</td>\n",
       "      <td>PM2.5</td>\n",
       "      <td>01-003-0010</td>\n",
       "      <td>1</td>\n",
       "    </tr>\n",
       "  </tbody>\n",
       "</table>\n",
       "</div>"
      ],
      "text/plain": [
       "  state_name county_name  state_code  county_code        date  aqi category  \\\n",
       "0    Alabama     Baldwin           1            3  2017-01-01   21     Good   \n",
       "1    Alabama     Baldwin           1            3  2017-01-04   22     Good   \n",
       "\n",
       "  defining_parameter defining_site  number_of_sites_reporting  \n",
       "0              PM2.5   01-003-0010                          1  \n",
       "1              PM2.5   01-003-0010                          1  "
      ]
     },
     "execution_count": 5,
     "metadata": {},
     "output_type": "execute_result"
    }
   ],
   "source": [
    "# Update column by making lower case and replace space with underscore\n",
    "aqi.columns = aqi.columns.str.lower().str.replace(' ','_')\n",
    "\n",
    "# View our updates\n",
    "aqi.head(2)"
   ]
  },
  {
   "cell_type": "markdown",
   "id": "dbfc6398-06f1-4c46-8edf-1eb1df6bf73a",
   "metadata": {},
   "source": [
    "Our current dataframe includes all Counties in the United States. But, we are only interested in Santa Barbara. Let's filter our dataframe to Santa Barbara County"
   ]
  },
  {
   "cell_type": "code",
   "execution_count": 6,
   "id": "ecba9bf0-da6e-4be8-b76c-f2204994fed2",
   "metadata": {
    "tags": []
   },
   "outputs": [
    {
     "data": {
      "text/plain": [
       "array(['Santa Barbara'], dtype=object)"
      ]
     },
     "execution_count": 6,
     "metadata": {},
     "output_type": "execute_result"
    }
   ],
   "source": [
    "# Select Santa Barbara\n",
    "aqi_sb = aqi[aqi.county_name == \"Santa Barbara\"]\n",
    "\n",
    "# Check that we only filtered for Santa Barbara by unique county_names\n",
    "aqi_sb.county_name.unique()"
   ]
  },
  {
   "cell_type": "markdown",
   "id": "9c6dc415-ab10-49cd-a4b2-db14c7d692ac",
   "metadata": {},
   "source": [
    "Now that we filtered our dataset to just Santa Barbara let's do further analysis on our dataset - view column data types.\n",
    "\n"
   ]
  },
  {
   "cell_type": "code",
   "execution_count": 7,
   "id": "86763fcb-ec22-4fc7-b0b3-897df5fcb520",
   "metadata": {
    "tags": []
   },
   "outputs": [
    {
     "data": {
      "text/plain": [
       "state_name                   object\n",
       "county_name                  object\n",
       "state_code                    int64\n",
       "county_code                   int64\n",
       "date                         object\n",
       "aqi                           int64\n",
       "category                     object\n",
       "defining_parameter           object\n",
       "defining_site                object\n",
       "number_of_sites_reporting     int64\n",
       "dtype: object"
      ]
     },
     "execution_count": 7,
     "metadata": {},
     "output_type": "execute_result"
    }
   ],
   "source": [
    "# check data types of columns\n",
    "aqi_sb.dtypes"
   ]
  },
  {
   "cell_type": "markdown",
   "id": "7d4618f0-7d9e-41b5-bb8d-ee241db76d34",
   "metadata": {},
   "source": [
    "Notice that our `date` column is an object. Let's change that to a `datetime64`. And update our `date` column to be the index."
   ]
  },
  {
   "cell_type": "code",
   "execution_count": 8,
   "id": "cfeb00a8-919b-4a37-8500-3060e76059c3",
   "metadata": {
    "tags": []
   },
   "outputs": [
    {
     "name": "stdout",
     "output_type": "stream",
     "text": [
      "state_name                           object\n",
      "county_name                          object\n",
      "state_code                            int64\n",
      "county_code                           int64\n",
      "date                         datetime64[ns]\n",
      "aqi                                   int64\n",
      "category                             object\n",
      "defining_parameter                   object\n",
      "defining_site                        object\n",
      "number_of_sites_reporting             int64\n",
      "dtype: object\n",
      "DatetimeIndex(['2017-01-01', '2017-01-02', '2017-01-03', '2017-01-04',\n",
      "               '2017-01-05', '2017-01-06', '2017-01-07', '2017-01-08',\n",
      "               '2017-01-09', '2017-01-10',\n",
      "               ...\n",
      "               '2018-12-22', '2018-12-23', '2018-12-24', '2018-12-25',\n",
      "               '2018-12-26', '2018-12-27', '2018-12-28', '2018-12-29',\n",
      "               '2018-12-30', '2018-12-31'],\n",
      "              dtype='datetime64[ns]', name='date', length=730, freq=None)\n"
     ]
    },
    {
     "name": "stderr",
     "output_type": "stream",
     "text": [
      "/tmp/ipykernel_1319159/4016207549.py:2: SettingWithCopyWarning: \n",
      "A value is trying to be set on a copy of a slice from a DataFrame.\n",
      "Try using .loc[row_indexer,col_indexer] = value instead\n",
      "\n",
      "See the caveats in the documentation: https://pandas.pydata.org/pandas-docs/stable/user_guide/indexing.html#returning-a-view-versus-a-copy\n",
      "  aqi_sb.loc[:,'date'] = pd.to_datetime(aqi_sb['date'])\n"
     ]
    }
   ],
   "source": [
    "# update date column to be datetime object\n",
    "aqi_sb.loc[:,'date'] = pd.to_datetime(aqi_sb['date'])\n",
    "\n",
    "print(aqi_sb.dtypes)\n",
    "\n",
    "aqi_sb = aqi_sb.set_index(\"date\")\n",
    "\n",
    "# View index change\n",
    "print(aqi_sb.index)"
   ]
  },
  {
   "cell_type": "markdown",
   "id": "3cdcecef-afa5-4c47-9370-23c18d49f887",
   "metadata": {},
   "source": [
    "To further update this dataset let us remove the columns we are not interested in, removing `state_name`,`county_name`, `state_code`, `county_code`"
   ]
  },
  {
   "cell_type": "code",
   "execution_count": 9,
   "id": "be8ea90b-321f-4773-99ed-0c01fe45c0a8",
   "metadata": {
    "tags": []
   },
   "outputs": [
    {
     "data": {
      "text/plain": [
       "Index(['aqi', 'category', 'defining_parameter', 'defining_site',\n",
       "       'number_of_sites_reporting'],\n",
       "      dtype='object')"
      ]
     },
     "execution_count": 9,
     "metadata": {},
     "output_type": "execute_result"
    }
   ],
   "source": [
    "# remove state_name, county_name, state_code and county_code columns\n",
    "aqi_sb = aqi_sb.drop(columns = ['state_name','county_name','state_code','county_code'])\n",
    "\n",
    "# View remaining columns\n",
    "aqi_sb.columns"
   ]
  },
  {
   "cell_type": "markdown",
   "id": "9d38fb4a-ef3d-4426-8850-9c28880f6563",
   "metadata": {},
   "source": [
    "To calculate the trend of AQI values we conduct a 5-day rolling average."
   ]
  },
  {
   "cell_type": "code",
   "execution_count": 10,
   "id": "165fe04e-5e10-4aab-9a87-b7583332b4e9",
   "metadata": {
    "tags": []
   },
   "outputs": [],
   "source": [
    "# Create a new column with mean AQI over a 5-day rolling average.\n",
    "#aqi_sb[\"five_day_average\"] = aqi_sb.aqi.rolling(\"5D\").mean()\n",
    "\n",
    "aqi_sb[\"five_day_average\"] = aqi_sb.aqi.rolling(\"5D\").mean()"
   ]
  },
  {
   "cell_type": "markdown",
   "id": "aee10f8b-2833-4c6c-bf8e-088a80257898",
   "metadata": {},
   "source": [
    "Now we can make a line plot of our time series! Let us compare both the daily AQI and 5-day moving average."
   ]
  },
  {
   "cell_type": "code",
   "execution_count": 11,
   "id": "da30b8a2-852c-4838-bd8d-82f467bf03ff",
   "metadata": {
    "tags": []
   },
   "outputs": [
    {
     "data": {
      "text/plain": [
       "<AxesSubplot:title={'center':'Daily AQI and 5-day average AQI for Santa Barbara'}, xlabel='Date', ylabel='PM2.5 (μm)'>"
      ]
     },
     "execution_count": 11,
     "metadata": {},
     "output_type": "execute_result"
    },
    {
     "data": {
      "image/png": "[encoded data removed]",
      "text/plain": [
       "<Figure size 640x480 with 1 Axes>"
      ]
     },
     "metadata": {},
     "output_type": "display_data"
    }
   ],
   "source": [
    "# define colors for plot\n",
    "colors = ['thistle','firebrick']\n",
    "\n",
    "# line plot of daily AQI and the 5-day average \n",
    "aqi_sb.plot(y = ['aqi','five_day_average'], # setting y as AQI and 5-day average AQI\n",
    "           xlabel = \"Date\", # x-axis label\n",
    "           ylabel = \"PM2.5 (μm)\", #y-axis label\n",
    "           title = \"Daily AQI and 5-day average AQI for Santa Barbara\", # title \n",
    "           color = colors) #setting colors for lines"
   ]
  }
 ],
 "metadata": {
  "kernelspec": {
   "display_name": "Anaconda 3 (Base)",
   "language": "python",
   "name": "base"
  },
  "language_info": {
   "codemirror_mode": {
    "name": "ipython",
    "version": 3
   },
   "file_extension": ".py",
   "mimetype": "text/x-python",
   "name": "python",
   "nbconvert_exporter": "python",
   "pygments_lexer": "ipython3",
   "version": "3.9.13"
  }
 },
 "nbformat": 4,
 "nbformat_minor": 5
}

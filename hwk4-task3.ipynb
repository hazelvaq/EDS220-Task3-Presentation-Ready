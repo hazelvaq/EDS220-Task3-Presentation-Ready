{
 "cells": [
  {
   "cell_type": "markdown",
   "id": "90bd9087-678e-4e19-b70d-d0a25e01463e",
   "metadata": {},
   "source": [
    "## Homework 4- Task 3: Air Quality Index Data + False Color Image\n",
    "Author: Hazel Vaquero\n",
    "\n",
    "Repository link: https://github.com/hazelvaq/eds220-mpc.git "
   ]
  },
  {
   "cell_type": "markdown",
   "id": "90ef31c7-2f44-4c4a-abc3-949a2d5939d0",
   "metadata": {},
   "source": [
    "## About\n"
   ]
  },
  {
   "cell_type": "markdown",
   "id": "d652e2ba-a16b-4db3-b2de-dd9e44a1b3ed",
   "metadata": {},
   "source": [
    "### Purpose\n",
    "\n",
    "This notebook is a compilation of Homework 2-Task 2: Air Quality Index Data and Homework 4-Task 2: False color image. Our purpose is to analyze the affects the Thomas Fire had on Santa Barbara in 2017. We will visualize the fire scar of the fire and generate a time series displaying the fires impact on the Air Quality Index(AQI).\n",
    "\n",
    "The notebook is divided in the following sections:\n",
    "- Highlight of Analysis\n",
    "- Dataset Description\n",
    "- References to dataset\n",
    "- Analysis/Visualization:\n",
    "    - Importing data\n",
    "    - Geographical context of data\n",
    "    - Data Exploration\n",
    "    - Analysis \n",
    "    - Final Output\n",
    "\n",
    "Each Homework task will have its own section covering all of the topics above."
   ]
  },
  {
   "cell_type": "markdown",
   "id": "5f2f0b8d-049b-4fc7-8693-5cb0534b9391",
   "metadata": {},
   "source": [
    "## Air Quality Index Data"
   ]
  },
  {
   "cell_type": "markdown",
   "id": "f2dd160f-c61e-4fa3-b5c9-b2fe52141f27",
   "metadata": {},
   "source": [
    "### Highlights of Analysis "
   ]
  },
  {
   "cell_type": "markdown",
   "id": "f8599167-5ff4-4340-a436-f7a79d3fc995",
   "metadata": {},
   "source": [
    "### Dataset Description\n"
   ]
  },
  {
   "cell_type": "markdown",
   "id": "37bc1c17-f60c-4eb9-8296-d1e6039bb598",
   "metadata": {},
   "source": [
    "### References to dataset"
   ]
  },
  {
   "cell_type": "markdown",
   "id": "96be7f93-24ad-454f-a117-b458399ac3ce",
   "metadata": {},
   "source": [
    "### Analysis\n",
    "\n",
    "The necessary libraries for this task are the following"
   ]
  },
  {
   "cell_type": "code",
   "execution_count": 3,
   "id": "7dd8723e-b54e-4004-882d-173a2d3f5e93",
   "metadata": {
    "tags": []
   },
   "outputs": [],
   "source": [
    "# read in pandas\n",
    "import pandas as pd\n",
    "# import matplotlib for colors\n",
    "import matplotlib.pyplot as plt "
   ]
  }
 ],
 "metadata": {
  "kernelspec": {
   "display_name": "Anaconda 3 (Base)",
   "language": "python",
   "name": "base"
  },
  "language_info": {
   "codemirror_mode": {
    "name": "ipython",
    "version": 3
   },
   "file_extension": ".py",
   "mimetype": "text/x-python",
   "name": "python",
   "nbconvert_exporter": "python",
   "pygments_lexer": "ipython3",
   "version": "3.9.13"
  }
 },
 "nbformat": 4,
 "nbformat_minor": 5
}
